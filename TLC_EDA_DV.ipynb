{
 "cells": [
  {
   "cell_type": "markdown",
   "id": "62df21d5-00fe-43fc-b7e1-1c03289c2783",
   "metadata": {},
   "source": [
    "# New York City Taxi & Limousine Commission (New York City TLC)"
   ]
  },
  {
   "cell_type": "markdown",
   "id": "6c91161c-56a4-41d0-90ad-2b876b9a68a4",
   "metadata": {
    "jp-MarkdownHeadingCollapsed": true
   },
   "source": [
    "#### Overview:\n",
    "Project Goal: Conduct exploratory data analysis (EDA) on NYC taxi data to understand ride patterns and build a predictive model for taxi fares.\n",
    "\n",
    "**Part 1:** Inspect the data \n",
    "* Understand and inspect the provided taxi cab dataset and information.\n",
    "* Compile summary information about the data to inform next steps.\n",
    "\n",
    "**Part 2:** Understand the variables\n",
    "* Use insights from examination of the summary data to guide deeper investigation into specific variables.\n",
    "\n",
    "**Part 3:** Comprehensive EDA\n",
    "* Statistical activities/data visualizations"
   ]
  },
  {
   "cell_type": "markdown",
   "id": "80d855af-36c5-4b96-bfbc-b752727ac9a4",
   "metadata": {
    "jp-MarkdownHeadingCollapsed": true
   },
   "source": [
    "### Change Log\n",
    "2024_0511, S. Souto, Initial Version"
   ]
  },
  {
   "cell_type": "markdown",
   "id": "36e3c55d-d388-4b9f-8ef3-8c98f2c45e8c",
   "metadata": {},
   "source": [
    "### Data Sources"
   ]
  },
  {
   "cell_type": "markdown",
   "id": "98dd0120-bb0b-42fa-a455-6c0a6840943a",
   "metadata": {},
   "source": [
    "1. Sampled from original data: NYC.gov: \"2017_Yellow_Taxi_Trip_Data.csv\""
   ]
  },
  {
   "cell_type": "markdown",
   "id": "6c904117-87f1-486b-b68b-1f897ac51fe8",
   "metadata": {},
   "source": [
    "### Imports and Data Loading"
   ]
  },
  {
   "cell_type": "code",
   "execution_count": 1,
   "id": "731de82d-9e35-453f-91e3-483fa921e939",
   "metadata": {},
   "outputs": [],
   "source": [
    "# Import packages and libraries\n",
    "import pandas as pd\n",
    "import numpy as np\n",
    "import datetime as dt\n",
    "import matplotlib.pyplot as plt\n",
    "import seaborn as sns "
   ]
  },
  {
   "cell_type": "code",
   "execution_count": 2,
   "id": "1b7a93b8-ae84-4a26-96d8-58cc0bb5945d",
   "metadata": {},
   "outputs": [],
   "source": [
    "# Notebook setup\n",
    "pd.set_option('display.max_columns', None)"
   ]
  },
  {
   "cell_type": "code",
   "execution_count": 3,
   "id": "e83b8f1e-0c52-4b4c-8f6e-eb604eb06e4c",
   "metadata": {},
   "outputs": [],
   "source": [
    "# Load dataset into dataframe, save copy\n",
    "df0 = pd.read_csv('data/2017_Yellow_Taxi_Trip_Data.csv')\n",
    "df1 = df0.copy()"
   ]
  },
  {
   "cell_type": "markdown",
   "id": "f80891f3-796e-4463-87b7-7c671f4645fb",
   "metadata": {},
   "source": [
    "## Part 1: Inspect the data"
   ]
  },
  {
   "cell_type": "code",
   "execution_count": 4,
   "id": "c692968c-692a-4fdf-b1c8-8ec771286698",
   "metadata": {},
   "outputs": [
    {
     "name": "stdout",
     "output_type": "stream",
     "text": [
      "<class 'pandas.core.frame.DataFrame'>\n",
      "RangeIndex: 22699 entries, 0 to 22698\n",
      "Data columns (total 18 columns):\n",
      " #   Column                 Non-Null Count  Dtype  \n",
      "---  ------                 --------------  -----  \n",
      " 0   Unnamed: 0             22699 non-null  int64  \n",
      " 1   VendorID               22699 non-null  int64  \n",
      " 2   tpep_pickup_datetime   22699 non-null  object \n",
      " 3   tpep_dropoff_datetime  22699 non-null  object \n",
      " 4   passenger_count        22699 non-null  int64  \n",
      " 5   trip_distance          22699 non-null  float64\n",
      " 6   RatecodeID             22699 non-null  int64  \n",
      " 7   store_and_fwd_flag     22699 non-null  object \n",
      " 8   PULocationID           22699 non-null  int64  \n",
      " 9   DOLocationID           22699 non-null  int64  \n",
      " 10  payment_type           22699 non-null  int64  \n",
      " 11  fare_amount            22699 non-null  float64\n",
      " 12  extra                  22699 non-null  float64\n",
      " 13  mta_tax                22699 non-null  float64\n",
      " 14  tip_amount             22699 non-null  float64\n",
      " 15  tolls_amount           22699 non-null  float64\n",
      " 16  improvement_surcharge  22699 non-null  float64\n",
      " 17  total_amount           22699 non-null  float64\n",
      "dtypes: float64(8), int64(7), object(3)\n",
      "memory usage: 3.1+ MB\n"
     ]
    }
   ],
   "source": [
    "df1.info()"
   ]
  },
  {
   "cell_type": "code",
   "execution_count": 5,
   "id": "d93c433a-cc0e-4d7f-83c1-8d9e6ba22051",
   "metadata": {},
   "outputs": [
    {
     "data": {
      "text/plain": [
       "(22699, 18)"
      ]
     },
     "execution_count": 5,
     "metadata": {},
     "output_type": "execute_result"
    }
   ],
   "source": [
    "df1.shape"
   ]
  },
  {
   "cell_type": "code",
   "execution_count": 6,
   "id": "a0803af5-22b8-4a91-b1a1-71084c9c727e",
   "metadata": {},
   "outputs": [
    {
     "data": {
      "text/html": [
       "<div>\n",
       "<style scoped>\n",
       "    .dataframe tbody tr th:only-of-type {\n",
       "        vertical-align: middle;\n",
       "    }\n",
       "\n",
       "    .dataframe tbody tr th {\n",
       "        vertical-align: top;\n",
       "    }\n",
       "\n",
       "    .dataframe thead th {\n",
       "        text-align: right;\n",
       "    }\n",
       "</style>\n",
       "<table border=\"1\" class=\"dataframe\">\n",
       "  <thead>\n",
       "    <tr style=\"text-align: right;\">\n",
       "      <th></th>\n",
       "      <th>Unnamed: 0</th>\n",
       "      <th>VendorID</th>\n",
       "      <th>tpep_pickup_datetime</th>\n",
       "      <th>tpep_dropoff_datetime</th>\n",
       "      <th>passenger_count</th>\n",
       "      <th>trip_distance</th>\n",
       "      <th>RatecodeID</th>\n",
       "      <th>store_and_fwd_flag</th>\n",
       "      <th>PULocationID</th>\n",
       "      <th>DOLocationID</th>\n",
       "      <th>payment_type</th>\n",
       "      <th>fare_amount</th>\n",
       "      <th>extra</th>\n",
       "      <th>mta_tax</th>\n",
       "      <th>tip_amount</th>\n",
       "      <th>tolls_amount</th>\n",
       "      <th>improvement_surcharge</th>\n",
       "      <th>total_amount</th>\n",
       "    </tr>\n",
       "  </thead>\n",
       "  <tbody>\n",
       "    <tr>\n",
       "      <th>0</th>\n",
       "      <td>24870114</td>\n",
       "      <td>2</td>\n",
       "      <td>03/25/2017 8:55:43 AM</td>\n",
       "      <td>03/25/2017 9:09:47 AM</td>\n",
       "      <td>6</td>\n",
       "      <td>3.34</td>\n",
       "      <td>1</td>\n",
       "      <td>N</td>\n",
       "      <td>100</td>\n",
       "      <td>231</td>\n",
       "      <td>1</td>\n",
       "      <td>13.0</td>\n",
       "      <td>0.0</td>\n",
       "      <td>0.5</td>\n",
       "      <td>2.76</td>\n",
       "      <td>0.0</td>\n",
       "      <td>0.3</td>\n",
       "      <td>16.56</td>\n",
       "    </tr>\n",
       "    <tr>\n",
       "      <th>1</th>\n",
       "      <td>35634249</td>\n",
       "      <td>1</td>\n",
       "      <td>04/11/2017 2:53:28 PM</td>\n",
       "      <td>04/11/2017 3:19:58 PM</td>\n",
       "      <td>1</td>\n",
       "      <td>1.80</td>\n",
       "      <td>1</td>\n",
       "      <td>N</td>\n",
       "      <td>186</td>\n",
       "      <td>43</td>\n",
       "      <td>1</td>\n",
       "      <td>16.0</td>\n",
       "      <td>0.0</td>\n",
       "      <td>0.5</td>\n",
       "      <td>4.00</td>\n",
       "      <td>0.0</td>\n",
       "      <td>0.3</td>\n",
       "      <td>20.80</td>\n",
       "    </tr>\n",
       "    <tr>\n",
       "      <th>2</th>\n",
       "      <td>106203690</td>\n",
       "      <td>1</td>\n",
       "      <td>12/15/2017 7:26:56 AM</td>\n",
       "      <td>12/15/2017 7:34:08 AM</td>\n",
       "      <td>1</td>\n",
       "      <td>1.00</td>\n",
       "      <td>1</td>\n",
       "      <td>N</td>\n",
       "      <td>262</td>\n",
       "      <td>236</td>\n",
       "      <td>1</td>\n",
       "      <td>6.5</td>\n",
       "      <td>0.0</td>\n",
       "      <td>0.5</td>\n",
       "      <td>1.45</td>\n",
       "      <td>0.0</td>\n",
       "      <td>0.3</td>\n",
       "      <td>8.75</td>\n",
       "    </tr>\n",
       "    <tr>\n",
       "      <th>3</th>\n",
       "      <td>38942136</td>\n",
       "      <td>2</td>\n",
       "      <td>05/07/2017 1:17:59 PM</td>\n",
       "      <td>05/07/2017 1:48:14 PM</td>\n",
       "      <td>1</td>\n",
       "      <td>3.70</td>\n",
       "      <td>1</td>\n",
       "      <td>N</td>\n",
       "      <td>188</td>\n",
       "      <td>97</td>\n",
       "      <td>1</td>\n",
       "      <td>20.5</td>\n",
       "      <td>0.0</td>\n",
       "      <td>0.5</td>\n",
       "      <td>6.39</td>\n",
       "      <td>0.0</td>\n",
       "      <td>0.3</td>\n",
       "      <td>27.69</td>\n",
       "    </tr>\n",
       "    <tr>\n",
       "      <th>4</th>\n",
       "      <td>30841670</td>\n",
       "      <td>2</td>\n",
       "      <td>04/15/2017 11:32:20 PM</td>\n",
       "      <td>04/15/2017 11:49:03 PM</td>\n",
       "      <td>1</td>\n",
       "      <td>4.37</td>\n",
       "      <td>1</td>\n",
       "      <td>N</td>\n",
       "      <td>4</td>\n",
       "      <td>112</td>\n",
       "      <td>2</td>\n",
       "      <td>16.5</td>\n",
       "      <td>0.5</td>\n",
       "      <td>0.5</td>\n",
       "      <td>0.00</td>\n",
       "      <td>0.0</td>\n",
       "      <td>0.3</td>\n",
       "      <td>17.80</td>\n",
       "    </tr>\n",
       "    <tr>\n",
       "      <th>5</th>\n",
       "      <td>23345809</td>\n",
       "      <td>2</td>\n",
       "      <td>03/25/2017 8:34:11 PM</td>\n",
       "      <td>03/25/2017 8:42:11 PM</td>\n",
       "      <td>6</td>\n",
       "      <td>2.30</td>\n",
       "      <td>1</td>\n",
       "      <td>N</td>\n",
       "      <td>161</td>\n",
       "      <td>236</td>\n",
       "      <td>1</td>\n",
       "      <td>9.0</td>\n",
       "      <td>0.5</td>\n",
       "      <td>0.5</td>\n",
       "      <td>2.06</td>\n",
       "      <td>0.0</td>\n",
       "      <td>0.3</td>\n",
       "      <td>12.36</td>\n",
       "    </tr>\n",
       "    <tr>\n",
       "      <th>6</th>\n",
       "      <td>37660487</td>\n",
       "      <td>2</td>\n",
       "      <td>05/03/2017 7:04:09 PM</td>\n",
       "      <td>05/03/2017 8:03:47 PM</td>\n",
       "      <td>1</td>\n",
       "      <td>12.83</td>\n",
       "      <td>1</td>\n",
       "      <td>N</td>\n",
       "      <td>79</td>\n",
       "      <td>241</td>\n",
       "      <td>1</td>\n",
       "      <td>47.5</td>\n",
       "      <td>1.0</td>\n",
       "      <td>0.5</td>\n",
       "      <td>9.86</td>\n",
       "      <td>0.0</td>\n",
       "      <td>0.3</td>\n",
       "      <td>59.16</td>\n",
       "    </tr>\n",
       "    <tr>\n",
       "      <th>7</th>\n",
       "      <td>69059411</td>\n",
       "      <td>2</td>\n",
       "      <td>08/15/2017 5:41:06 PM</td>\n",
       "      <td>08/15/2017 6:03:05 PM</td>\n",
       "      <td>1</td>\n",
       "      <td>2.98</td>\n",
       "      <td>1</td>\n",
       "      <td>N</td>\n",
       "      <td>237</td>\n",
       "      <td>114</td>\n",
       "      <td>1</td>\n",
       "      <td>16.0</td>\n",
       "      <td>1.0</td>\n",
       "      <td>0.5</td>\n",
       "      <td>1.78</td>\n",
       "      <td>0.0</td>\n",
       "      <td>0.3</td>\n",
       "      <td>19.58</td>\n",
       "    </tr>\n",
       "    <tr>\n",
       "      <th>8</th>\n",
       "      <td>8433159</td>\n",
       "      <td>2</td>\n",
       "      <td>02/04/2017 4:17:07 PM</td>\n",
       "      <td>02/04/2017 4:29:14 PM</td>\n",
       "      <td>1</td>\n",
       "      <td>1.20</td>\n",
       "      <td>1</td>\n",
       "      <td>N</td>\n",
       "      <td>234</td>\n",
       "      <td>249</td>\n",
       "      <td>2</td>\n",
       "      <td>9.0</td>\n",
       "      <td>0.0</td>\n",
       "      <td>0.5</td>\n",
       "      <td>0.00</td>\n",
       "      <td>0.0</td>\n",
       "      <td>0.3</td>\n",
       "      <td>9.80</td>\n",
       "    </tr>\n",
       "    <tr>\n",
       "      <th>9</th>\n",
       "      <td>95294817</td>\n",
       "      <td>1</td>\n",
       "      <td>11/10/2017 3:20:29 PM</td>\n",
       "      <td>11/10/2017 3:40:55 PM</td>\n",
       "      <td>1</td>\n",
       "      <td>1.60</td>\n",
       "      <td>1</td>\n",
       "      <td>N</td>\n",
       "      <td>239</td>\n",
       "      <td>237</td>\n",
       "      <td>1</td>\n",
       "      <td>13.0</td>\n",
       "      <td>0.0</td>\n",
       "      <td>0.5</td>\n",
       "      <td>2.75</td>\n",
       "      <td>0.0</td>\n",
       "      <td>0.3</td>\n",
       "      <td>16.55</td>\n",
       "    </tr>\n",
       "  </tbody>\n",
       "</table>\n",
       "</div>"
      ],
      "text/plain": [
       "   Unnamed: 0  VendorID    tpep_pickup_datetime   tpep_dropoff_datetime  \\\n",
       "0    24870114         2   03/25/2017 8:55:43 AM   03/25/2017 9:09:47 AM   \n",
       "1    35634249         1   04/11/2017 2:53:28 PM   04/11/2017 3:19:58 PM   \n",
       "2   106203690         1   12/15/2017 7:26:56 AM   12/15/2017 7:34:08 AM   \n",
       "3    38942136         2   05/07/2017 1:17:59 PM   05/07/2017 1:48:14 PM   \n",
       "4    30841670         2  04/15/2017 11:32:20 PM  04/15/2017 11:49:03 PM   \n",
       "5    23345809         2   03/25/2017 8:34:11 PM   03/25/2017 8:42:11 PM   \n",
       "6    37660487         2   05/03/2017 7:04:09 PM   05/03/2017 8:03:47 PM   \n",
       "7    69059411         2   08/15/2017 5:41:06 PM   08/15/2017 6:03:05 PM   \n",
       "8     8433159         2   02/04/2017 4:17:07 PM   02/04/2017 4:29:14 PM   \n",
       "9    95294817         1   11/10/2017 3:20:29 PM   11/10/2017 3:40:55 PM   \n",
       "\n",
       "   passenger_count  trip_distance  RatecodeID store_and_fwd_flag  \\\n",
       "0                6           3.34           1                  N   \n",
       "1                1           1.80           1                  N   \n",
       "2                1           1.00           1                  N   \n",
       "3                1           3.70           1                  N   \n",
       "4                1           4.37           1                  N   \n",
       "5                6           2.30           1                  N   \n",
       "6                1          12.83           1                  N   \n",
       "7                1           2.98           1                  N   \n",
       "8                1           1.20           1                  N   \n",
       "9                1           1.60           1                  N   \n",
       "\n",
       "   PULocationID  DOLocationID  payment_type  fare_amount  extra  mta_tax  \\\n",
       "0           100           231             1         13.0    0.0      0.5   \n",
       "1           186            43             1         16.0    0.0      0.5   \n",
       "2           262           236             1          6.5    0.0      0.5   \n",
       "3           188            97             1         20.5    0.0      0.5   \n",
       "4             4           112             2         16.5    0.5      0.5   \n",
       "5           161           236             1          9.0    0.5      0.5   \n",
       "6            79           241             1         47.5    1.0      0.5   \n",
       "7           237           114             1         16.0    1.0      0.5   \n",
       "8           234           249             2          9.0    0.0      0.5   \n",
       "9           239           237             1         13.0    0.0      0.5   \n",
       "\n",
       "   tip_amount  tolls_amount  improvement_surcharge  total_amount  \n",
       "0        2.76           0.0                    0.3         16.56  \n",
       "1        4.00           0.0                    0.3         20.80  \n",
       "2        1.45           0.0                    0.3          8.75  \n",
       "3        6.39           0.0                    0.3         27.69  \n",
       "4        0.00           0.0                    0.3         17.80  \n",
       "5        2.06           0.0                    0.3         12.36  \n",
       "6        9.86           0.0                    0.3         59.16  \n",
       "7        1.78           0.0                    0.3         19.58  \n",
       "8        0.00           0.0                    0.3          9.80  \n",
       "9        2.75           0.0                    0.3         16.55  "
      ]
     },
     "execution_count": 6,
     "metadata": {},
     "output_type": "execute_result"
    }
   ],
   "source": [
    "df1.head(10)"
   ]
  },
  {
   "cell_type": "code",
   "execution_count": 7,
   "id": "c3cb7a1d-c15b-4599-a1b1-680bfe69c035",
   "metadata": {},
   "outputs": [
    {
     "data": {
      "text/html": [
       "<div>\n",
       "<style scoped>\n",
       "    .dataframe tbody tr th:only-of-type {\n",
       "        vertical-align: middle;\n",
       "    }\n",
       "\n",
       "    .dataframe tbody tr th {\n",
       "        vertical-align: top;\n",
       "    }\n",
       "\n",
       "    .dataframe thead th {\n",
       "        text-align: right;\n",
       "    }\n",
       "</style>\n",
       "<table border=\"1\" class=\"dataframe\">\n",
       "  <thead>\n",
       "    <tr style=\"text-align: right;\">\n",
       "      <th></th>\n",
       "      <th>Unnamed: 0</th>\n",
       "      <th>VendorID</th>\n",
       "      <th>passenger_count</th>\n",
       "      <th>trip_distance</th>\n",
       "      <th>RatecodeID</th>\n",
       "      <th>PULocationID</th>\n",
       "      <th>DOLocationID</th>\n",
       "      <th>payment_type</th>\n",
       "      <th>fare_amount</th>\n",
       "      <th>extra</th>\n",
       "      <th>mta_tax</th>\n",
       "      <th>tip_amount</th>\n",
       "      <th>tolls_amount</th>\n",
       "      <th>improvement_surcharge</th>\n",
       "      <th>total_amount</th>\n",
       "    </tr>\n",
       "  </thead>\n",
       "  <tbody>\n",
       "    <tr>\n",
       "      <th>count</th>\n",
       "      <td>2.269900e+04</td>\n",
       "      <td>22699.000000</td>\n",
       "      <td>22699.000000</td>\n",
       "      <td>22699.000000</td>\n",
       "      <td>22699.000000</td>\n",
       "      <td>22699.000000</td>\n",
       "      <td>22699.000000</td>\n",
       "      <td>22699.000000</td>\n",
       "      <td>22699.000000</td>\n",
       "      <td>22699.000000</td>\n",
       "      <td>22699.000000</td>\n",
       "      <td>22699.000000</td>\n",
       "      <td>22699.000000</td>\n",
       "      <td>22699.000000</td>\n",
       "      <td>22699.000000</td>\n",
       "    </tr>\n",
       "    <tr>\n",
       "      <th>mean</th>\n",
       "      <td>5.675849e+07</td>\n",
       "      <td>1.556236</td>\n",
       "      <td>1.642319</td>\n",
       "      <td>2.913313</td>\n",
       "      <td>1.043394</td>\n",
       "      <td>162.412353</td>\n",
       "      <td>161.527997</td>\n",
       "      <td>1.336887</td>\n",
       "      <td>13.026629</td>\n",
       "      <td>0.333275</td>\n",
       "      <td>0.497445</td>\n",
       "      <td>1.835781</td>\n",
       "      <td>0.312542</td>\n",
       "      <td>0.299551</td>\n",
       "      <td>16.310502</td>\n",
       "    </tr>\n",
       "    <tr>\n",
       "      <th>std</th>\n",
       "      <td>3.274493e+07</td>\n",
       "      <td>0.496838</td>\n",
       "      <td>1.285231</td>\n",
       "      <td>3.653171</td>\n",
       "      <td>0.708391</td>\n",
       "      <td>66.633373</td>\n",
       "      <td>70.139691</td>\n",
       "      <td>0.496211</td>\n",
       "      <td>13.243791</td>\n",
       "      <td>0.463097</td>\n",
       "      <td>0.039465</td>\n",
       "      <td>2.800626</td>\n",
       "      <td>1.399212</td>\n",
       "      <td>0.015673</td>\n",
       "      <td>16.097295</td>\n",
       "    </tr>\n",
       "    <tr>\n",
       "      <th>min</th>\n",
       "      <td>1.212700e+04</td>\n",
       "      <td>1.000000</td>\n",
       "      <td>0.000000</td>\n",
       "      <td>0.000000</td>\n",
       "      <td>1.000000</td>\n",
       "      <td>1.000000</td>\n",
       "      <td>1.000000</td>\n",
       "      <td>1.000000</td>\n",
       "      <td>-120.000000</td>\n",
       "      <td>-1.000000</td>\n",
       "      <td>-0.500000</td>\n",
       "      <td>0.000000</td>\n",
       "      <td>0.000000</td>\n",
       "      <td>-0.300000</td>\n",
       "      <td>-120.300000</td>\n",
       "    </tr>\n",
       "    <tr>\n",
       "      <th>25%</th>\n",
       "      <td>2.852056e+07</td>\n",
       "      <td>1.000000</td>\n",
       "      <td>1.000000</td>\n",
       "      <td>0.990000</td>\n",
       "      <td>1.000000</td>\n",
       "      <td>114.000000</td>\n",
       "      <td>112.000000</td>\n",
       "      <td>1.000000</td>\n",
       "      <td>6.500000</td>\n",
       "      <td>0.000000</td>\n",
       "      <td>0.500000</td>\n",
       "      <td>0.000000</td>\n",
       "      <td>0.000000</td>\n",
       "      <td>0.300000</td>\n",
       "      <td>8.750000</td>\n",
       "    </tr>\n",
       "    <tr>\n",
       "      <th>50%</th>\n",
       "      <td>5.673150e+07</td>\n",
       "      <td>2.000000</td>\n",
       "      <td>1.000000</td>\n",
       "      <td>1.610000</td>\n",
       "      <td>1.000000</td>\n",
       "      <td>162.000000</td>\n",
       "      <td>162.000000</td>\n",
       "      <td>1.000000</td>\n",
       "      <td>9.500000</td>\n",
       "      <td>0.000000</td>\n",
       "      <td>0.500000</td>\n",
       "      <td>1.350000</td>\n",
       "      <td>0.000000</td>\n",
       "      <td>0.300000</td>\n",
       "      <td>11.800000</td>\n",
       "    </tr>\n",
       "    <tr>\n",
       "      <th>75%</th>\n",
       "      <td>8.537452e+07</td>\n",
       "      <td>2.000000</td>\n",
       "      <td>2.000000</td>\n",
       "      <td>3.060000</td>\n",
       "      <td>1.000000</td>\n",
       "      <td>233.000000</td>\n",
       "      <td>233.000000</td>\n",
       "      <td>2.000000</td>\n",
       "      <td>14.500000</td>\n",
       "      <td>0.500000</td>\n",
       "      <td>0.500000</td>\n",
       "      <td>2.450000</td>\n",
       "      <td>0.000000</td>\n",
       "      <td>0.300000</td>\n",
       "      <td>17.800000</td>\n",
       "    </tr>\n",
       "    <tr>\n",
       "      <th>max</th>\n",
       "      <td>1.134863e+08</td>\n",
       "      <td>2.000000</td>\n",
       "      <td>6.000000</td>\n",
       "      <td>33.960000</td>\n",
       "      <td>99.000000</td>\n",
       "      <td>265.000000</td>\n",
       "      <td>265.000000</td>\n",
       "      <td>4.000000</td>\n",
       "      <td>999.990000</td>\n",
       "      <td>4.500000</td>\n",
       "      <td>0.500000</td>\n",
       "      <td>200.000000</td>\n",
       "      <td>19.100000</td>\n",
       "      <td>0.300000</td>\n",
       "      <td>1200.290000</td>\n",
       "    </tr>\n",
       "  </tbody>\n",
       "</table>\n",
       "</div>"
      ],
      "text/plain": [
       "         Unnamed: 0      VendorID  passenger_count  trip_distance  \\\n",
       "count  2.269900e+04  22699.000000     22699.000000   22699.000000   \n",
       "mean   5.675849e+07      1.556236         1.642319       2.913313   \n",
       "std    3.274493e+07      0.496838         1.285231       3.653171   \n",
       "min    1.212700e+04      1.000000         0.000000       0.000000   \n",
       "25%    2.852056e+07      1.000000         1.000000       0.990000   \n",
       "50%    5.673150e+07      2.000000         1.000000       1.610000   \n",
       "75%    8.537452e+07      2.000000         2.000000       3.060000   \n",
       "max    1.134863e+08      2.000000         6.000000      33.960000   \n",
       "\n",
       "         RatecodeID  PULocationID  DOLocationID  payment_type   fare_amount  \\\n",
       "count  22699.000000  22699.000000  22699.000000  22699.000000  22699.000000   \n",
       "mean       1.043394    162.412353    161.527997      1.336887     13.026629   \n",
       "std        0.708391     66.633373     70.139691      0.496211     13.243791   \n",
       "min        1.000000      1.000000      1.000000      1.000000   -120.000000   \n",
       "25%        1.000000    114.000000    112.000000      1.000000      6.500000   \n",
       "50%        1.000000    162.000000    162.000000      1.000000      9.500000   \n",
       "75%        1.000000    233.000000    233.000000      2.000000     14.500000   \n",
       "max       99.000000    265.000000    265.000000      4.000000    999.990000   \n",
       "\n",
       "              extra       mta_tax    tip_amount  tolls_amount  \\\n",
       "count  22699.000000  22699.000000  22699.000000  22699.000000   \n",
       "mean       0.333275      0.497445      1.835781      0.312542   \n",
       "std        0.463097      0.039465      2.800626      1.399212   \n",
       "min       -1.000000     -0.500000      0.000000      0.000000   \n",
       "25%        0.000000      0.500000      0.000000      0.000000   \n",
       "50%        0.000000      0.500000      1.350000      0.000000   \n",
       "75%        0.500000      0.500000      2.450000      0.000000   \n",
       "max        4.500000      0.500000    200.000000     19.100000   \n",
       "\n",
       "       improvement_surcharge  total_amount  \n",
       "count           22699.000000  22699.000000  \n",
       "mean                0.299551     16.310502  \n",
       "std                 0.015673     16.097295  \n",
       "min                -0.300000   -120.300000  \n",
       "25%                 0.300000      8.750000  \n",
       "50%                 0.300000     11.800000  \n",
       "75%                 0.300000     17.800000  \n",
       "max                 0.300000   1200.290000  "
      ]
     },
     "execution_count": 7,
     "metadata": {},
     "output_type": "execute_result"
    }
   ],
   "source": [
    "df1.describe()"
   ]
  },
  {
   "cell_type": "markdown",
   "id": "7de71258-f169-416c-a13a-d4f29367b33a",
   "metadata": {},
   "source": [
    "##### Dataset Composition\n",
    "* There are 22699 observations and 18 features within the data.\n",
    "* No null values.\n",
    "* Non-numeric Dtypes to possibly be converted, if deemed required data:\n",
    "    * two containing datetime data: `tpep_pickup_datetime`, `tpep_dropoff_datetime`\n",
    "    * `store_and_fwd_flag`\n",
    "##### Initial Observations:\n",
    "- Not all variables appear to be required for prediction of fares and some can be removed.\n",
    "- Datetime columns can be utilized to derive a trip duration column.\n",
    "- Negative amounts from summary require further explanation, as does values not covered in data dictionary.\n",
    "\n",
    "Data Limitations and Considerations:\n",
    "- **Tolls Amount:** Accurate fare prediction might necessitate geographical data to account for toll costs.\n",
    "- **Tip Amount:** The model's output requires clarification on whether to include a suggested tip amount in the predicted fare.\n",
    "\n",
    "Data Dictionary Inconsistencies:\\\n",
    "Several columns exhibit data values that are not fully explained in the provided data dictionary, necessitating further clarification:\n",
    "\n",
    "- **RateCodeID:** The presence of the value 99 lacks explanation within the dataset's metadata.\n",
    "- **Extra:** While defined as miscellaneous extras and surcharges, the dictionary only specifies rush hour and overnight fees. Values such as -0.1, -0.5, and 4.5 require detailed descriptions.\n",
    "- **MTA_Tax:** The inconsistent application of the MTA tax, including instances of zero and negative values, demands a clear explanation of the tax calculation methodology, especially in relation to metered rates.\n",
    "- **Improvement_surcharge:** Similar to the MTA tax, the improvement surcharge shows inconsistencies in application, including zero and negative values. A comprehensive explanation of the surcharge calculation and the definition of \"assessed trips\" is required.\n",
    "\n",
    "Data Anomalies and Potential Issues:\n",
    "- **Toll Amount:** The presence of negative toll amounts suggests potential refund scenarios. Verification of this assumption is necessary, followed by potential removal of these records if deemed irrelevant.\n",
    "- **Zero-Distance Trips:** The dataset contains numerous instances of trips recorded as having a distance of 0.0 miles. The underlying causes of these anomalies require investigation to assess their impact on model accuracy."
   ]
  },
  {
   "cell_type": "markdown",
   "id": "f4aba9be-70f7-4d88-8491-c1f9c9146b47",
   "metadata": {},
   "source": [
    "## Part 2: Understand the variables"
   ]
  },
  {
   "cell_type": "markdown",
   "id": "00fd431c-038f-4fdc-b553-5888dcf0507a",
   "metadata": {},
   "source": [
    "Potential questions for the dataset include:\n",
    "\n",
    "1. How far (distance) is the longest ride?\n",
    "2. What is the most expensive ride?\n",
    "3. What is the average fare per trip?\n",
    "4. How many trips does each VendorID have?\n",
    "5. What is the average amount paid to each vendor?\n",
    "6. How many of each payment type is represented and what are their average tips?\n",
    "7. What is the average tip amount per passenger count?\n",
    "8. How many pickup and dropoff locations are there?\n",
    "9. What is the average tip amount per trip?\n",
    "10. What is the duration of the longest ride?"
   ]
  },
  {
   "cell_type": "code",
   "execution_count": 8,
   "id": "bbd4f683-0452-4bf2-985a-473169c5ebda",
   "metadata": {},
   "outputs": [
    {
     "data": {
      "text/html": [
       "<div>\n",
       "<style scoped>\n",
       "    .dataframe tbody tr th:only-of-type {\n",
       "        vertical-align: middle;\n",
       "    }\n",
       "\n",
       "    .dataframe tbody tr th {\n",
       "        vertical-align: top;\n",
       "    }\n",
       "\n",
       "    .dataframe thead th {\n",
       "        text-align: right;\n",
       "    }\n",
       "</style>\n",
       "<table border=\"1\" class=\"dataframe\">\n",
       "  <thead>\n",
       "    <tr style=\"text-align: right;\">\n",
       "      <th></th>\n",
       "      <th>trip_distance</th>\n",
       "    </tr>\n",
       "  </thead>\n",
       "  <tbody>\n",
       "    <tr>\n",
       "      <th>9280</th>\n",
       "      <td>33.96</td>\n",
       "    </tr>\n",
       "    <tr>\n",
       "      <th>13861</th>\n",
       "      <td>33.92</td>\n",
       "    </tr>\n",
       "    <tr>\n",
       "      <th>6064</th>\n",
       "      <td>32.72</td>\n",
       "    </tr>\n",
       "    <tr>\n",
       "      <th>10291</th>\n",
       "      <td>31.95</td>\n",
       "    </tr>\n",
       "    <tr>\n",
       "      <th>29</th>\n",
       "      <td>30.83</td>\n",
       "    </tr>\n",
       "    <tr>\n",
       "      <th>...</th>\n",
       "      <td>...</td>\n",
       "    </tr>\n",
       "    <tr>\n",
       "      <th>2440</th>\n",
       "      <td>0.00</td>\n",
       "    </tr>\n",
       "    <tr>\n",
       "      <th>15916</th>\n",
       "      <td>0.00</td>\n",
       "    </tr>\n",
       "    <tr>\n",
       "      <th>1350</th>\n",
       "      <td>0.00</td>\n",
       "    </tr>\n",
       "    <tr>\n",
       "      <th>246</th>\n",
       "      <td>0.00</td>\n",
       "    </tr>\n",
       "    <tr>\n",
       "      <th>17788</th>\n",
       "      <td>0.00</td>\n",
       "    </tr>\n",
       "  </tbody>\n",
       "</table>\n",
       "<p>22699 rows × 1 columns</p>\n",
       "</div>"
      ],
      "text/plain": [
       "       trip_distance\n",
       "9280           33.96\n",
       "13861          33.92\n",
       "6064           32.72\n",
       "10291          31.95\n",
       "29             30.83\n",
       "...              ...\n",
       "2440            0.00\n",
       "15916           0.00\n",
       "1350            0.00\n",
       "246             0.00\n",
       "17788           0.00\n",
       "\n",
       "[22699 rows x 1 columns]"
      ]
     },
     "execution_count": 8,
     "metadata": {},
     "output_type": "execute_result"
    }
   ],
   "source": [
    "# Sort the data by trip distance\n",
    "df1.sort_values(by=['trip_distance'],ascending=False)[['trip_distance']]"
   ]
  },
  {
   "cell_type": "markdown",
   "id": "eb775d4b-3a20-4d63-80e3-fcc984d9c762",
   "metadata": {},
   "source": [
    "The longest ride is approximately 34 miles.  The top two trips are identical in distance."
   ]
  },
  {
   "cell_type": "code",
   "execution_count": 9,
   "id": "fe21a3e7-b84a-401d-83f5-3ae3eaf165bb",
   "metadata": {},
   "outputs": [
    {
     "data": {
      "text/html": [
       "<div>\n",
       "<style scoped>\n",
       "    .dataframe tbody tr th:only-of-type {\n",
       "        vertical-align: middle;\n",
       "    }\n",
       "\n",
       "    .dataframe tbody tr th {\n",
       "        vertical-align: top;\n",
       "    }\n",
       "\n",
       "    .dataframe thead th {\n",
       "        text-align: right;\n",
       "    }\n",
       "</style>\n",
       "<table border=\"1\" class=\"dataframe\">\n",
       "  <thead>\n",
       "    <tr style=\"text-align: right;\">\n",
       "      <th></th>\n",
       "      <th>total_amount</th>\n",
       "      <th>trip_distance</th>\n",
       "    </tr>\n",
       "  </thead>\n",
       "  <tbody>\n",
       "    <tr>\n",
       "      <th>8476</th>\n",
       "      <td>1200.29</td>\n",
       "      <td>2.60</td>\n",
       "    </tr>\n",
       "    <tr>\n",
       "      <th>20312</th>\n",
       "      <td>450.30</td>\n",
       "      <td>0.00</td>\n",
       "    </tr>\n",
       "    <tr>\n",
       "      <th>13861</th>\n",
       "      <td>258.21</td>\n",
       "      <td>33.92</td>\n",
       "    </tr>\n",
       "    <tr>\n",
       "      <th>12511</th>\n",
       "      <td>233.74</td>\n",
       "      <td>0.00</td>\n",
       "    </tr>\n",
       "    <tr>\n",
       "      <th>15474</th>\n",
       "      <td>211.80</td>\n",
       "      <td>0.00</td>\n",
       "    </tr>\n",
       "    <tr>\n",
       "      <th>...</th>\n",
       "      <td>...</td>\n",
       "      <td>...</td>\n",
       "    </tr>\n",
       "    <tr>\n",
       "      <th>11204</th>\n",
       "      <td>-5.30</td>\n",
       "      <td>0.64</td>\n",
       "    </tr>\n",
       "    <tr>\n",
       "      <th>14714</th>\n",
       "      <td>-5.30</td>\n",
       "      <td>0.40</td>\n",
       "    </tr>\n",
       "    <tr>\n",
       "      <th>17602</th>\n",
       "      <td>-5.80</td>\n",
       "      <td>0.46</td>\n",
       "    </tr>\n",
       "    <tr>\n",
       "      <th>20698</th>\n",
       "      <td>-5.80</td>\n",
       "      <td>0.70</td>\n",
       "    </tr>\n",
       "    <tr>\n",
       "      <th>12944</th>\n",
       "      <td>-120.30</td>\n",
       "      <td>0.17</td>\n",
       "    </tr>\n",
       "  </tbody>\n",
       "</table>\n",
       "<p>22699 rows × 2 columns</p>\n",
       "</div>"
      ],
      "text/plain": [
       "       total_amount  trip_distance\n",
       "8476        1200.29           2.60\n",
       "20312        450.30           0.00\n",
       "13861        258.21          33.92\n",
       "12511        233.74           0.00\n",
       "15474        211.80           0.00\n",
       "...             ...            ...\n",
       "11204         -5.30           0.64\n",
       "14714         -5.30           0.40\n",
       "17602         -5.80           0.46\n",
       "20698         -5.80           0.70\n",
       "12944       -120.30           0.17\n",
       "\n",
       "[22699 rows x 2 columns]"
      ]
     },
     "execution_count": 9,
     "metadata": {},
     "output_type": "execute_result"
    }
   ],
   "source": [
    "df1.sort_values(by=['total_amount'], ascending=False)[['total_amount','trip_distance']]"
   ]
  },
  {
   "cell_type": "markdown",
   "id": "c21594c5-d778-4423-8b78-7a06211c0d63",
   "metadata": {},
   "source": [
    "The most expensive ride is $1200, which is not the trip with the longest distance.  The most expensive rides are not necessarily the longest ones."
   ]
  },
  {
   "cell_type": "code",
   "execution_count": 10,
   "id": "d54e56dd-7e91-4cce-abdf-fb50a6623f11",
   "metadata": {},
   "outputs": [
    {
     "data": {
      "text/html": [
       "<div>\n",
       "<style scoped>\n",
       "    .dataframe tbody tr th:only-of-type {\n",
       "        vertical-align: middle;\n",
       "    }\n",
       "\n",
       "    .dataframe tbody tr th {\n",
       "        vertical-align: top;\n",
       "    }\n",
       "\n",
       "    .dataframe thead th {\n",
       "        text-align: right;\n",
       "    }\n",
       "</style>\n",
       "<table border=\"1\" class=\"dataframe\">\n",
       "  <thead>\n",
       "    <tr style=\"text-align: right;\">\n",
       "      <th></th>\n",
       "      <th>total_amount</th>\n",
       "    </tr>\n",
       "  </thead>\n",
       "  <tbody>\n",
       "    <tr>\n",
       "      <th>min</th>\n",
       "      <td>-120.300000</td>\n",
       "    </tr>\n",
       "    <tr>\n",
       "      <th>mean</th>\n",
       "      <td>16.310502</td>\n",
       "    </tr>\n",
       "    <tr>\n",
       "      <th>max</th>\n",
       "      <td>1200.290000</td>\n",
       "    </tr>\n",
       "  </tbody>\n",
       "</table>\n",
       "</div>"
      ],
      "text/plain": [
       "      total_amount\n",
       "min    -120.300000\n",
       "mean     16.310502\n",
       "max    1200.290000"
      ]
     },
     "execution_count": 10,
     "metadata": {},
     "output_type": "execute_result"
    }
   ],
   "source": [
    "# average fare per trip\n",
    "df1.agg({\"total_amount\":[\"min\",\"mean\",\"max\"]})"
   ]
  },
  {
   "cell_type": "markdown",
   "id": "2c66ca59-c9c3-446b-a120-dd469414e7df",
   "metadata": {},
   "source": [
    "The average amount per trip is approximately $13, but there appears to be outliers/incorrect entries in the data to investigate."
   ]
  },
  {
   "cell_type": "code",
   "execution_count": 11,
   "id": "df4704aa-5b97-4ed9-9c1c-257f0f4b7f69",
   "metadata": {},
   "outputs": [
    {
     "data": {
      "text/plain": [
       "VendorID\n",
       "2    12626\n",
       "1    10073\n",
       "Name: count, dtype: int64"
      ]
     },
     "execution_count": 11,
     "metadata": {},
     "output_type": "execute_result"
    }
   ],
   "source": [
    "# trips per VendorID\n",
    "df1['VendorID'].value_counts()"
   ]
  },
  {
   "cell_type": "code",
   "execution_count": 12,
   "id": "91e7661b-920f-4482-bca6-c6839c887d5c",
   "metadata": {},
   "outputs": [
    {
     "data": {
      "text/html": [
       "<div>\n",
       "<style scoped>\n",
       "    .dataframe tbody tr th:only-of-type {\n",
       "        vertical-align: middle;\n",
       "    }\n",
       "\n",
       "    .dataframe tbody tr th {\n",
       "        vertical-align: top;\n",
       "    }\n",
       "\n",
       "    .dataframe thead th {\n",
       "        text-align: right;\n",
       "    }\n",
       "</style>\n",
       "<table border=\"1\" class=\"dataframe\">\n",
       "  <thead>\n",
       "    <tr style=\"text-align: right;\">\n",
       "      <th></th>\n",
       "      <th>total_amount</th>\n",
       "    </tr>\n",
       "    <tr>\n",
       "      <th>VendorID</th>\n",
       "      <th></th>\n",
       "    </tr>\n",
       "  </thead>\n",
       "  <tbody>\n",
       "    <tr>\n",
       "      <th>1</th>\n",
       "      <td>16.298119</td>\n",
       "    </tr>\n",
       "    <tr>\n",
       "      <th>2</th>\n",
       "      <td>16.320382</td>\n",
       "    </tr>\n",
       "  </tbody>\n",
       "</table>\n",
       "</div>"
      ],
      "text/plain": [
       "          total_amount\n",
       "VendorID              \n",
       "1            16.298119\n",
       "2            16.320382"
      ]
     },
     "execution_count": 12,
     "metadata": {},
     "output_type": "execute_result"
    }
   ],
   "source": [
    "# Average total amount paid by vendor\n",
    "df1.groupby(['VendorID']).mean(numeric_only=True)[['total_amount']]"
   ]
  },
  {
   "cell_type": "markdown",
   "id": "f192fce6-7b27-47ff-ba2e-d7e64312c85f",
   "metadata": {},
   "source": [
    "Vendor 2 has a slightly higher share of the rides, but the average amount paid to each vendor per trip is roughly even."
   ]
  },
  {
   "cell_type": "code",
   "execution_count": 13,
   "id": "cda310f2-a0e5-45c9-afec-dde32633edf2",
   "metadata": {},
   "outputs": [
    {
     "data": {
      "text/plain": [
       "payment_type\n",
       "1    15265\n",
       "2     7267\n",
       "3      121\n",
       "4       46\n",
       "Name: count, dtype: int64"
      ]
     },
     "execution_count": 13,
     "metadata": {},
     "output_type": "execute_result"
    }
   ],
   "source": [
    "#How many of each payment type is represented and what are their average tips?\n",
    "df1['payment_type'].value_counts()"
   ]
  },
  {
   "cell_type": "markdown",
   "id": "703ab72f-61af-4e92-8f94-a137defa2867",
   "metadata": {},
   "source": [
    "The top two payment types are credit card (1), and cash (2).  Credit Card method of payment more than doubles those that are paid with cash."
   ]
  },
  {
   "cell_type": "code",
   "execution_count": 14,
   "id": "68ecb8ff-ff67-43bc-9b7e-ee88af2f7cc0",
   "metadata": {},
   "outputs": [
    {
     "data": {
      "text/html": [
       "<div>\n",
       "<style scoped>\n",
       "    .dataframe tbody tr th:only-of-type {\n",
       "        vertical-align: middle;\n",
       "    }\n",
       "\n",
       "    .dataframe tbody tr th {\n",
       "        vertical-align: top;\n",
       "    }\n",
       "\n",
       "    .dataframe thead th {\n",
       "        text-align: right;\n",
       "    }\n",
       "</style>\n",
       "<table border=\"1\" class=\"dataframe\">\n",
       "  <thead>\n",
       "    <tr style=\"text-align: right;\">\n",
       "      <th></th>\n",
       "      <th>fare_amount</th>\n",
       "      <th>tip_amount</th>\n",
       "      <th>total_amount</th>\n",
       "    </tr>\n",
       "    <tr>\n",
       "      <th>payment_type</th>\n",
       "      <th></th>\n",
       "      <th></th>\n",
       "      <th></th>\n",
       "    </tr>\n",
       "  </thead>\n",
       "  <tbody>\n",
       "    <tr>\n",
       "      <th>1</th>\n",
       "      <td>13.429748</td>\n",
       "      <td>2.7298</td>\n",
       "      <td>17.663577</td>\n",
       "    </tr>\n",
       "    <tr>\n",
       "      <th>2</th>\n",
       "      <td>12.213546</td>\n",
       "      <td>0.0000</td>\n",
       "      <td>13.545821</td>\n",
       "    </tr>\n",
       "    <tr>\n",
       "      <th>3</th>\n",
       "      <td>12.186116</td>\n",
       "      <td>0.0000</td>\n",
       "      <td>13.579669</td>\n",
       "    </tr>\n",
       "    <tr>\n",
       "      <th>4</th>\n",
       "      <td>9.913043</td>\n",
       "      <td>0.0000</td>\n",
       "      <td>11.238261</td>\n",
       "    </tr>\n",
       "  </tbody>\n",
       "</table>\n",
       "</div>"
      ],
      "text/plain": [
       "              fare_amount  tip_amount  total_amount\n",
       "payment_type                                       \n",
       "1               13.429748      2.7298     17.663577\n",
       "2               12.213546      0.0000     13.545821\n",
       "3               12.186116      0.0000     13.579669\n",
       "4                9.913043      0.0000     11.238261"
      ]
     },
     "execution_count": 14,
     "metadata": {},
     "output_type": "execute_result"
    }
   ],
   "source": [
    "# Break down cost-contributing columns (excluding taxes and tolls) per payment type\n",
    "df1.groupby([\"payment_type\"]).agg({\"fare_amount\":\"mean\",\n",
    "                                   \"tip_amount\":\"mean\",\n",
    "                                   \"total_amount\":\"mean\"})"
   ]
  },
  {
   "cell_type": "markdown",
   "id": "7b8a5420-82a9-4fc9-afbe-bdf016fda865",
   "metadata": {},
   "source": [
    "Tips are only given when the payment type is credit card."
   ]
  },
  {
   "cell_type": "code",
   "execution_count": 15,
   "id": "34e480c5-b66a-4ca6-8ce5-1e9c150a5fcf",
   "metadata": {},
   "outputs": [],
   "source": [
    "# Filter the data for credit card payments only\n",
    "credit_card = df1[df1['payment_type']==1].copy()"
   ]
  },
  {
   "cell_type": "code",
   "execution_count": 16,
   "id": "c353f6ef-b14f-459f-9d79-1a72daf1be05",
   "metadata": {},
   "outputs": [
    {
     "data": {
      "text/html": [
       "<div>\n",
       "<style scoped>\n",
       "    .dataframe tbody tr th:only-of-type {\n",
       "        vertical-align: middle;\n",
       "    }\n",
       "\n",
       "    .dataframe tbody tr th {\n",
       "        vertical-align: top;\n",
       "    }\n",
       "\n",
       "    .dataframe thead tr th {\n",
       "        text-align: left;\n",
       "    }\n",
       "\n",
       "    .dataframe thead tr:last-of-type th {\n",
       "        text-align: right;\n",
       "    }\n",
       "</style>\n",
       "<table border=\"1\" class=\"dataframe\">\n",
       "  <thead>\n",
       "    <tr>\n",
       "      <th></th>\n",
       "      <th colspan=\"2\" halign=\"left\">fare_amount</th>\n",
       "      <th>tip_amount</th>\n",
       "      <th>total_amount</th>\n",
       "    </tr>\n",
       "    <tr>\n",
       "      <th></th>\n",
       "      <th>size</th>\n",
       "      <th>mean</th>\n",
       "      <th>mean</th>\n",
       "      <th>mean</th>\n",
       "    </tr>\n",
       "    <tr>\n",
       "      <th>passenger_count</th>\n",
       "      <th></th>\n",
       "      <th></th>\n",
       "      <th></th>\n",
       "      <th></th>\n",
       "    </tr>\n",
       "  </thead>\n",
       "  <tbody>\n",
       "    <tr>\n",
       "      <th>0</th>\n",
       "      <td>27</td>\n",
       "      <td>15.544444</td>\n",
       "      <td>2.610370</td>\n",
       "      <td>19.529630</td>\n",
       "    </tr>\n",
       "    <tr>\n",
       "      <th>1</th>\n",
       "      <td>10977</td>\n",
       "      <td>13.278924</td>\n",
       "      <td>2.714681</td>\n",
       "      <td>17.483811</td>\n",
       "    </tr>\n",
       "    <tr>\n",
       "      <th>2</th>\n",
       "      <td>2168</td>\n",
       "      <td>14.291813</td>\n",
       "      <td>2.829949</td>\n",
       "      <td>18.728132</td>\n",
       "    </tr>\n",
       "    <tr>\n",
       "      <th>3</th>\n",
       "      <td>600</td>\n",
       "      <td>13.431667</td>\n",
       "      <td>2.726800</td>\n",
       "      <td>17.649317</td>\n",
       "    </tr>\n",
       "    <tr>\n",
       "      <th>4</th>\n",
       "      <td>267</td>\n",
       "      <td>13.655431</td>\n",
       "      <td>2.607753</td>\n",
       "      <td>17.617865</td>\n",
       "    </tr>\n",
       "    <tr>\n",
       "      <th>5</th>\n",
       "      <td>775</td>\n",
       "      <td>13.154839</td>\n",
       "      <td>2.762645</td>\n",
       "      <td>17.416813</td>\n",
       "    </tr>\n",
       "    <tr>\n",
       "      <th>6</th>\n",
       "      <td>451</td>\n",
       "      <td>13.166297</td>\n",
       "      <td>2.643326</td>\n",
       "      <td>17.279911</td>\n",
       "    </tr>\n",
       "  </tbody>\n",
       "</table>\n",
       "</div>"
      ],
      "text/plain": [
       "                fare_amount            tip_amount total_amount\n",
       "                       size       mean       mean         mean\n",
       "passenger_count                                               \n",
       "0                        27  15.544444   2.610370    19.529630\n",
       "1                     10977  13.278924   2.714681    17.483811\n",
       "2                      2168  14.291813   2.829949    18.728132\n",
       "3                       600  13.431667   2.726800    17.649317\n",
       "4                       267  13.655431   2.607753    17.617865\n",
       "5                       775  13.154839   2.762645    17.416813\n",
       "6                       451  13.166297   2.643326    17.279911"
      ]
     },
     "execution_count": 16,
     "metadata": {},
     "output_type": "execute_result"
    }
   ],
   "source": [
    "# Calculate average amounts for each passenger count (credit card payments only)\n",
    "credit_card.groupby(['passenger_count']).agg({\"fare_amount\":[\"size\",\"mean\"],\n",
    "                                             \"tip_amount\":[\"mean\"],\n",
    "                                             \"total_amount\":[\"mean\"]})"
   ]
  },
  {
   "cell_type": "markdown",
   "id": "f73744c1-bf65-4b26-906d-2f234182a2da",
   "metadata": {},
   "source": [
    "For taxi rides paid by credit card:\n",
    "* Most frequent rider group: The most common rider group is solo riders (passenger count of 1) with 10,977 rides. This group also has the second lowest average total amount at \\\\$17.48.\n",
    "* Least Frequent rider group: The least common rider group is four (excluding zero-passenger trips).\n",
    "* Tips do not appear to fluctuate based on the number of passengers in a ride.  \n",
    "\n",
    "* Trip cost does not necessarily increase with rider count: The average fare amount, tip amount, and total amount do not increase as the number of riders goes up. It was assumed that taxis may charge more for additional passengers, however, it appears that the highest amounts are associated with a passenger count of two.  The average total amount for rides with 6 passengers is \\\\$17.28, whereas rides with 4 passengers have an average total amount of \\\\$17.62.\n",
    "\n",
    "* There are amounts present when there are zero passengers.  This should be investigated to determine if data ia correct.\n",
    "\n",
    "**Note:** It is important to note that this data only shows averages and may not represent the cost of every ride. There could be other factors that influence the final fare amount, such as distance traveled, time of day, and location.\n"
   ]
  },
  {
   "cell_type": "markdown",
   "id": "e8768bf6-f58b-4031-856f-dd1be52c2109",
   "metadata": {},
   "source": [
    "### Sub-Conclusion"
   ]
  },
  {
   "cell_type": "markdown",
   "id": "5cfd4b55-4ae6-4ba2-86e7-5a681ba15fcc",
   "metadata": {},
   "source": [
    "`Total_amount` reflects the final fare paid, and `trip_distance` captures the travel length, together providing a comprehensive picture for predicting taxi fares."
   ]
  },
  {
   "cell_type": "markdown",
   "id": "fb304809-f32b-454b-86db-e0e8d08eb68b",
   "metadata": {},
   "source": [
    "## Part 3: Data Preparation"
   ]
  },
  {
   "cell_type": "markdown",
   "id": "3bddc762-fea4-4d58-966c-fc722a3eed68",
   "metadata": {},
   "source": [
    "### Comprehensive EDA\n",
    "Drill down on revenue-specific and distance columns"
   ]
  },
  {
   "cell_type": "markdown",
   "id": "30f35425-fb21-4f8f-9f4d-a8eaf9a7783e",
   "metadata": {},
   "source": [
    "#### Revenue-Specific EDA"
   ]
  },
  {
   "cell_type": "markdown",
   "id": "89e92a9d-ae14-4a0a-b899-b6494dac6fcd",
   "metadata": {},
   "source": [
    "##### **fare_amount, total_amount**"
   ]
  },
  {
   "cell_type": "code",
   "execution_count": 17,
   "id": "f2f2994f-c708-46b5-a9f3-cad2eee1022f",
   "metadata": {},
   "outputs": [
    {
     "data": {
      "image/png": "[encoded data removed]",
      "text/plain": [
       "<Figure size 700x200 with 1 Axes>"
      ]
     },
     "metadata": {},
     "output_type": "display_data"
    }
   ],
   "source": [
    "# Create box plot of fare_amount\n",
    "plt.figure(figsize=(7,2))\n",
    "plt.title('fare_amount')\n",
    "sns.boxplot(x=df1['fare_amount'], fliersize=1);"
   ]
  },
  {
   "cell_type": "code",
   "execution_count": 18,
   "id": "f9daa50b-f5f3-4b99-8454-704cad97563b",
   "metadata": {},
   "outputs": [
    {
     "data": {
      "image/png": "[encoded data removed]",
      "text/plain": [
       "<Figure size 700x200 with 1 Axes>"
      ]
     },
     "metadata": {},
     "output_type": "display_data"
    }
   ],
   "source": [
    "# Create box plot of total_amount\n",
    "plt.figure(figsize=(7,2))\n",
    "plt.title('total_amount')\n",
    "sns.boxplot(x=df1['total_amount'], fliersize=1);"
   ]
  },
  {
   "cell_type": "code",
   "execution_count": 19,
   "id": "6afb74ff-f124-4070-b485-b27410180e7f",
   "metadata": {},
   "outputs": [
    {
     "data": {
      "image/png": "[encoded data removed]",
      "text/plain": [
       "<Figure size 1200x600 with 2 Axes>"
      ]
     },
     "metadata": {},
     "output_type": "display_data"
    }
   ],
   "source": [
    "# Histograms of Fare and Total Amounts\n",
    "# Create a 1x2 plot figure.\n",
    "fig, axes = plt.subplots(1, 2, figsize = (12,6), sharey=True)\n",
    "\n",
    "# Set the title of the plots.\n",
    "axes[0].set_title(\"Fare Amounts\")\n",
    "axes[1].set_title(\"Total Amounts\")\n",
    "\n",
    "# Plot fare_amount\n",
    "ax0 = sns.histplot(df1['fare_amount'], bins=range(-5, 101, 5), ax=axes[0])\n",
    "ax0.set_xticks(range(-5, 101, 5))\n",
    "ax0.set_xticklabels(range(-5, 101, 5))\n",
    "\n",
    "# Plot total_amount\n",
    "ax1 = sns.histplot(df1['total_amount'], bins=range(-5, 101, 5), ax=axes[1])\n",
    "ax1.set_xticks(range(-5, 101, 5))\n",
    "ax1.set_xticklabels(range(-5, 101, 5))\n",
    "\n",
    "# Add space between plots for a cleaner appearance\n",
    "plt.tight_layout()\n",
    "\n",
    "plt.show()"
   ]
  },
  {
   "cell_type": "markdown",
   "id": "2d4c755a-40eb-4ab2-b1e9-6946484ae6a1",
   "metadata": {},
   "source": [
    "Taxi fares exhibit a right-skewed distribution, with the majority of trips concentrated between \\\\$5 and \\\\$15."
   ]
  },
  {
   "cell_type": "markdown",
   "id": "fa230ce8-5edd-4c89-a2b3-6caf34746094",
   "metadata": {},
   "source": [
    "##### **tip_amount**"
   ]
  },
  {
   "cell_type": "code",
   "execution_count": 20,
   "id": "1ddbe83a-02fb-413b-bc61-a9707b1b3d45",
   "metadata": {},
   "outputs": [
    {
     "data": {
      "image/png": "[encoded data removed]",
      "text/plain": [
       "<Figure size 700x200 with 1 Axes>"
      ]
     },
     "metadata": {},
     "output_type": "display_data"
    }
   ],
   "source": [
    "# Create box plot of tip_amount\n",
    "plt.figure(figsize=(7,2))\n",
    "plt.title('tip_amount')\n",
    "sns.boxplot(x=df1['tip_amount'], fliersize=1);"
   ]
  },
  {
   "cell_type": "code",
   "execution_count": 21,
   "id": "80fe213d-7c4a-44a5-9d80-53b26f096a49",
   "metadata": {},
   "outputs": [
    {
     "data": {
      "image/png": "[encoded data removed]",
      "text/plain": [
       "<Figure size 1200x600 with 1 Axes>"
      ]
     },
     "metadata": {},
     "output_type": "display_data"
    }
   ],
   "source": [
    "# Create histogram of tip_amount\n",
    "plt.figure(figsize=(12, 6))\n",
    "ax = sns.histplot(df1['tip_amount'], bins=range(0, 21, 1))\n",
    "ax.set_xticks(range(0, 21, 2))\n",
    "ax.set_xticklabels(range(0, 21, 2))\n",
    "plt.title('Tip amount histogram');"
   ]
  },
  {
   "cell_type": "markdown",
   "id": "75abc54e-8667-4fd6-85ba-1ce7435c8efa",
   "metadata": {},
   "source": [
    "Tip amounts exhibit a right-skewed distribution, with the majority of tips concentrated between $\\$$0 and $\\$$3."
   ]
  },
  {
   "cell_type": "markdown",
   "id": "0e95e931-4c93-4790-8475-2a5bb02f2fff",
   "metadata": {},
   "source": [
    "###### tip_amount by vendor"
   ]
  },
  {
   "cell_type": "code",
   "execution_count": 22,
   "id": "c41ac19b-2bd2-4b6d-9f6c-dc8ff84ebdf3",
   "metadata": {},
   "outputs": [
    {
     "data": {
      "image/png": "[encoded data removed]",
      "text/plain": [
       "<Figure size 1200x700 with 1 Axes>"
      ]
     },
     "metadata": {},
     "output_type": "display_data"
    }
   ],
   "source": [
    "# Create histogram of tip_amount by vendor\n",
    "plt.figure(figsize=(12,7))\n",
    "ax = sns.histplot(data=df1, x='tip_amount', bins=range(0,21,1), \n",
    "                  hue='VendorID', \n",
    "                  multiple='stack',\n",
    "                  palette='bright')\n",
    "ax.set_xticks(range(0,21,1))\n",
    "ax.set_xticklabels(range(0,21,1))\n",
    "plt.title('Tip amount by vendor histogram');"
   ]
  },
  {
   "cell_type": "markdown",
   "id": "1e193219-1619-4b20-a82e-9b7bd89ca677",
   "metadata": {},
   "source": [
    "Vendor breakdown of tip amounts reveals a consistent tipping pattern across both vendors. Although Vendor Two has a larger portion of the rides, the distribution of tip amounts remains similar for both companies."
   ]
  },
  {
   "cell_type": "code",
   "execution_count": 23,
   "id": "96dee9f1-03d7-4ac5-8c2f-fe96c225aa1e",
   "metadata": {},
   "outputs": [
    {
     "data": {
      "image/png": "[encoded data removed]",
      "text/plain": [
       "<Figure size 1200x700 with 1 Axes>"
      ]
     },
     "metadata": {},
     "output_type": "display_data"
    }
   ],
   "source": [
    "# Create histogram of tip_amount by vendor for tips > $10 \n",
    "tips_gtr_ten = df1[df1['tip_amount'] > 10]\n",
    "plt.figure(figsize=(12,7))\n",
    "ax = sns.histplot(data=tips_gtr_ten, x='tip_amount', bins=range(10,21,1), \n",
    "                  hue='VendorID', \n",
    "                  multiple='stack',\n",
    "                  palette='bright')\n",
    "ax.set_xticks(range(10,21,1))\n",
    "ax.set_xticklabels(range(10,21,1))\n",
    "plt.title('Tips > $10 by vendor histogram');"
   ]
  },
  {
   "cell_type": "markdown",
   "id": "371349f8-d233-408f-9087-670fabd96dc6",
   "metadata": {},
   "source": [
    "While focusing on higher tip amounts, we look to see if Vendor One receives a significantly larger share of these more generous tips. Interestingly, the distribution of tip amounts remains consistent across vendors, even at these extremes. However, due to the limited number of rides with very high tips, this slight difference at the very top end isn't likely to be statistically significant."
   ]
  },
  {
   "cell_type": "markdown",
   "id": "353f2349-1531-464a-aae7-aef0d1e1affb",
   "metadata": {},
   "source": [
    "Previously, we analyzed average tips for credit card transactions only, since those were the only fares with recorded tips. In this section, we'll expand our scope to examine average tip amounts across all payment types."
   ]
  },
  {
   "cell_type": "code",
   "execution_count": 24,
   "id": "e49f56dc-4242-454b-9393-12417de41c62",
   "metadata": {},
   "outputs": [
    {
     "data": {
      "text/html": [
       "<div>\n",
       "<style scoped>\n",
       "    .dataframe tbody tr th:only-of-type {\n",
       "        vertical-align: middle;\n",
       "    }\n",
       "\n",
       "    .dataframe tbody tr th {\n",
       "        vertical-align: top;\n",
       "    }\n",
       "\n",
       "    .dataframe thead th {\n",
       "        text-align: right;\n",
       "    }\n",
       "</style>\n",
       "<table border=\"1\" class=\"dataframe\">\n",
       "  <thead>\n",
       "    <tr style=\"text-align: right;\">\n",
       "      <th></th>\n",
       "      <th>tip_amount</th>\n",
       "    </tr>\n",
       "    <tr>\n",
       "      <th>passenger_count</th>\n",
       "      <th></th>\n",
       "    </tr>\n",
       "  </thead>\n",
       "  <tbody>\n",
       "    <tr>\n",
       "      <th>0</th>\n",
       "      <td>2.135758</td>\n",
       "    </tr>\n",
       "    <tr>\n",
       "      <th>1</th>\n",
       "      <td>1.848920</td>\n",
       "    </tr>\n",
       "    <tr>\n",
       "      <th>2</th>\n",
       "      <td>1.856378</td>\n",
       "    </tr>\n",
       "    <tr>\n",
       "      <th>3</th>\n",
       "      <td>1.716768</td>\n",
       "    </tr>\n",
       "    <tr>\n",
       "      <th>4</th>\n",
       "      <td>1.530264</td>\n",
       "    </tr>\n",
       "    <tr>\n",
       "      <th>5</th>\n",
       "      <td>1.873185</td>\n",
       "    </tr>\n",
       "    <tr>\n",
       "      <th>6</th>\n",
       "      <td>1.720260</td>\n",
       "    </tr>\n",
       "  </tbody>\n",
       "</table>\n",
       "</div>"
      ],
      "text/plain": [
       "                 tip_amount\n",
       "passenger_count            \n",
       "0                  2.135758\n",
       "1                  1.848920\n",
       "2                  1.856378\n",
       "3                  1.716768\n",
       "4                  1.530264\n",
       "5                  1.873185\n",
       "6                  1.720260"
      ]
     },
     "execution_count": 24,
     "metadata": {},
     "output_type": "execute_result"
    }
   ],
   "source": [
    "# Calculate mean tips by passenger_count\n",
    "mean_tips_by_passenger_count_all = df1.groupby(['passenger_count']).mean(numeric_only=True)[['tip_amount']]\n",
    "mean_tips_by_passenger_count_all"
   ]
  },
  {
   "cell_type": "code",
   "execution_count": 25,
   "id": "c8f67f40-6981-40b7-b392-3f99115c2a68",
   "metadata": {},
   "outputs": [
    {
     "data": {
      "text/html": [
       "<div>\n",
       "<style scoped>\n",
       "    .dataframe tbody tr th:only-of-type {\n",
       "        vertical-align: middle;\n",
       "    }\n",
       "\n",
       "    .dataframe tbody tr th {\n",
       "        vertical-align: top;\n",
       "    }\n",
       "\n",
       "    .dataframe thead th {\n",
       "        text-align: right;\n",
       "    }\n",
       "</style>\n",
       "<table border=\"1\" class=\"dataframe\">\n",
       "  <thead>\n",
       "    <tr style=\"text-align: right;\">\n",
       "      <th></th>\n",
       "      <th>tip_amount</th>\n",
       "    </tr>\n",
       "    <tr>\n",
       "      <th>passenger_count</th>\n",
       "      <th></th>\n",
       "    </tr>\n",
       "  </thead>\n",
       "  <tbody>\n",
       "    <tr>\n",
       "      <th>0</th>\n",
       "      <td>2.610370</td>\n",
       "    </tr>\n",
       "    <tr>\n",
       "      <th>1</th>\n",
       "      <td>2.714681</td>\n",
       "    </tr>\n",
       "    <tr>\n",
       "      <th>2</th>\n",
       "      <td>2.829949</td>\n",
       "    </tr>\n",
       "    <tr>\n",
       "      <th>3</th>\n",
       "      <td>2.726800</td>\n",
       "    </tr>\n",
       "    <tr>\n",
       "      <th>4</th>\n",
       "      <td>2.607753</td>\n",
       "    </tr>\n",
       "    <tr>\n",
       "      <th>5</th>\n",
       "      <td>2.762645</td>\n",
       "    </tr>\n",
       "    <tr>\n",
       "      <th>6</th>\n",
       "      <td>2.643326</td>\n",
       "    </tr>\n",
       "  </tbody>\n",
       "</table>\n",
       "</div>"
      ],
      "text/plain": [
       "                 tip_amount\n",
       "passenger_count            \n",
       "0                  2.610370\n",
       "1                  2.714681\n",
       "2                  2.829949\n",
       "3                  2.726800\n",
       "4                  2.607753\n",
       "5                  2.762645\n",
       "6                  2.643326"
      ]
     },
     "execution_count": 25,
     "metadata": {},
     "output_type": "execute_result"
    }
   ],
   "source": [
    "# Calculate mean tips by passenger_count, credit-card payments only\n",
    "mean_tips_by_passenger_count_cc = credit_card.groupby(['passenger_count']).mean(numeric_only=True)[['tip_amount']]\n",
    "mean_tips_by_passenger_count_cc"
   ]
  },
  {
   "cell_type": "markdown",
   "id": "650fa0f5-9779-42ff-a988-ff4e0aed7465",
   "metadata": {},
   "source": [
    "###### Visualize tips amongst payment types"
   ]
  },
  {
   "cell_type": "code",
   "execution_count": 26,
   "id": "bd4aed20-ad3e-4df2-9dd8-6270ffe3fdc2",
   "metadata": {},
   "outputs": [
    {
     "data": {
      "image/png": "[encoded data removed]",
      "text/plain": [
       "<Figure size 1200x600 with 2 Axes>"
      ]
     },
     "metadata": {},
     "output_type": "display_data"
    }
   ],
   "source": [
    "# Get Data\n",
    "# mean tips by passenger count\n",
    "data = mean_tips_by_passenger_count_all.tail(-1)\n",
    "ranked_data = data.sort_values(by='tip_amount', ascending=False)\n",
    "\n",
    "# mean tips by passenger count, credit card only\n",
    "data_cc = mean_tips_by_passenger_count_cc.tail(-1)\n",
    "ranked_data_cc = data_cc.sort_values(by='tip_amount', ascending=False)\n",
    "\n",
    "# Create a 1x2 plot figure.\n",
    "fig, axes = plt.subplots(1, 2, figsize = (12,6), sharey=True)\n",
    "\n",
    "# Set the title of the plots.\n",
    "axes[0].set_title(\"Mean tip amount by passenger count, all passengers\")\n",
    "axes[1].set_title(\"Mean tip amount by passenger count, credit card-only passengers\")\n",
    "\n",
    "# Barplot of all customers\n",
    "ax0 = sns.barplot(x=ranked_data.index, y='tip_amount', data=ranked_data, ax=axes[0])\n",
    "axes[0].axhline(ranked_data['tip_amount'].mean(), ls='--', color='red', label='mean')\n",
    "axes[0].legend()\n",
    "\n",
    "# Barplot for credit card-only customers\n",
    "ax1 = sns.barplot(x=ranked_data_cc.index, y='tip_amount', data=ranked_data_cc, ax=axes[1])\n",
    "ax1.axhline(ranked_data_cc['tip_amount'].mean(), ls='--', color='red', label='mean')\n",
    "ax1.legend()\n",
    "\n",
    "# Add space between plots for a cleaner appearance\n",
    "plt.tight_layout()\n",
    "\n",
    "plt.show()"
   ]
  },
  {
   "cell_type": "markdown",
   "id": "1d8f3dce-616c-4013-9f98-46ec04d739aa",
   "metadata": {},
   "source": [
    "As previously mentioned, tip information is only accessible for credit card transactions. To understand the impact of this limitation, we'll compare credit card transactions to the entire dataset, which primarily consists of card and cash payments. This comparison highlights that credit card users provide higher average tips, an expected outcome given the absence of tip data for cash fares. However, the disparity underscores the potential reduction in overall driver income when considering averages.\n",
    "\n",
    "The average tip amount remains relatively consistent across different passenger counts. While there's a noticeable dip in tips for four-passenger trips, this is likely due to the limited number of such rides in the data (excluding empty trips).                                                                      \n",
    "\n",
    "One potential explanation for the cash payment/tip discrepancy is that cash transactions might allow for unreported tips. However, it’s improbable that absolutely no tip information exists for cash payments. To clarify this issue, further investigation into the possibility of accessing cash tip data is warranted."
   ]
  },
  {
   "cell_type": "markdown",
   "id": "aee9a56a-2b07-438d-823e-8ed415882781",
   "metadata": {},
   "source": [
    "Ride Count Trends"
   ]
  },
  {
   "cell_type": "code",
   "execution_count": 27,
   "id": "09740d9f-585c-4c7c-a78e-6d5fd13f4f08",
   "metadata": {},
   "outputs": [],
   "source": [
    "# Convert string date columns to datetime\n",
    "df1['tpep_pickup_datetime'] = pd.to_datetime(df1['tpep_pickup_datetime'])\n",
    "df1['tpep_dropoff_datetime'] = pd.to_datetime(df1['tpep_dropoff_datetime'])"
   ]
  },
  {
   "cell_type": "code",
   "execution_count": 28,
   "id": "cbf48cc5-f738-4d84-b166-cfa636785c44",
   "metadata": {},
   "outputs": [],
   "source": [
    "# Create a month column\n",
    "df1['month'] = df1['tpep_pickup_datetime'].dt.month_name()\n",
    "\n",
    "# Create a day column\n",
    "df1['day'] = df1['tpep_pickup_datetime'].dt.day_name()"
   ]
  },
  {
   "cell_type": "code",
   "execution_count": 29,
   "id": "ede04ce0-078f-4808-b0f3-362a1bd0d8b3",
   "metadata": {},
   "outputs": [
    {
     "data": {
      "text/plain": [
       "month\n",
       "March        2049\n",
       "October      2027\n",
       "April        2019\n",
       "May          2013\n",
       "January      1997\n",
       "June         1964\n",
       "December     1863\n",
       "November     1843\n",
       "February     1769\n",
       "September    1734\n",
       "August       1724\n",
       "July         1697\n",
       "Name: count, dtype: int64"
      ]
     },
     "execution_count": 29,
     "metadata": {},
     "output_type": "execute_result"
    }
   ],
   "source": [
    "# Get total number of rides for each month\n",
    "monthly_rides = df1['month'].value_counts()\n",
    "month_order = ['January', 'February', 'March', 'April', 'May', 'June', 'July',\n",
    "         'August', 'September', 'October', 'November', 'December']\n",
    "monthly_rides = monthly_rides.reindex(index=month_order)\n",
    "monthly_rides.sort_values(ascending=False)"
   ]
  },
  {
   "cell_type": "code",
   "execution_count": 30,
   "id": "19c6f578-b909-42b5-86b4-1c05637f8f16",
   "metadata": {},
   "outputs": [
    {
     "data": {
      "image/png": "[encoded data removed]",
      "text/plain": [
       "<Figure size 1200x700 with 1 Axes>"
      ]
     },
     "metadata": {},
     "output_type": "display_data"
    }
   ],
   "source": [
    "# Create a bar plot of total rides per month\n",
    "plt.figure(figsize=(12,7))\n",
    "ax = sns.barplot(x=monthly_rides.index, y=monthly_rides, color='green', alpha=0.5)\n",
    "ax.set_xticks(ax.get_xticks())\n",
    "ax.set_yticks(ax.get_yticks())\n",
    "ax.set_xticklabels(month_order)\n",
    "\n",
    "plt.title('Ride count by month');"
   ]
  },
  {
   "cell_type": "markdown",
   "id": "8c7ef4bc-ace1-4196-9f89-37b99f3d4355",
   "metadata": {},
   "source": [
    "Monthly ride numbers are consistent, with seasonal declines in summer and February."
   ]
  },
  {
   "cell_type": "code",
   "execution_count": 31,
   "id": "3bb362e1-240d-48f4-abb1-3a51ec7380c7",
   "metadata": {},
   "outputs": [
    {
     "data": {
      "text/plain": [
       "day\n",
       "Friday       3413\n",
       "Thursday     3402\n",
       "Wednesday    3390\n",
       "Saturday     3367\n",
       "Tuesday      3198\n",
       "Sunday       2998\n",
       "Monday       2931\n",
       "Name: count, dtype: int64"
      ]
     },
     "execution_count": 31,
     "metadata": {},
     "output_type": "execute_result"
    }
   ],
   "source": [
    "# Get total number of rides for each day\n",
    "daily_rides = df1['day'].value_counts()\n",
    "day_order = ['Monday', 'Tuesday', 'Wednesday', 'Thursday', 'Friday', 'Saturday', 'Sunday']\n",
    "daily_rides = daily_rides.reindex(index=day_order)\n",
    "daily_rides.sort_values(ascending=False)"
   ]
  },
  {
   "cell_type": "code",
   "execution_count": 32,
   "id": "9dc24c64-8ffa-452f-bdc1-0c587cb24765",
   "metadata": {},
   "outputs": [
    {
     "data": {
      "image/png": "[encoded data removed]",
      "text/plain": [
       "<Figure size 1200x700 with 1 Axes>"
      ]
     },
     "metadata": {},
     "output_type": "display_data"
    }
   ],
   "source": [
    "# Create bar plot for ride count by day\n",
    "plt.figure(figsize=(12,7))\n",
    "ax = sns.barplot(x=daily_rides.index, y=daily_rides, color='green', alpha=0.5)\n",
    "ax.set_xticks(ax.get_xticks())\n",
    "ax.set_yticks(ax.get_yticks())\n",
    "ax.set_xticklabels(day_order)\n",
    "ax.set_ylabel('Count')\n",
    "plt.title('Ride count by day');"
   ]
  },
  {
   "cell_type": "markdown",
   "id": "99b41458-70e6-4672-936b-f9d3166abdd3",
   "metadata": {},
   "source": [
    "Taxi usage was higher on weekdays, particularly from Wednesday to Saturday."
   ]
  },
  {
   "cell_type": "markdown",
   "id": "dc76c7cb-b9b6-4adf-8482-88fa39e8cfd7",
   "metadata": {},
   "source": [
    "Revenue Trends"
   ]
  },
  {
   "cell_type": "code",
   "execution_count": 33,
   "id": "0427fa1e-6945-4b1c-bbbe-d75583733e3c",
   "metadata": {},
   "outputs": [
    {
     "data": {
      "text/html": [
       "<div>\n",
       "<style scoped>\n",
       "    .dataframe tbody tr th:only-of-type {\n",
       "        vertical-align: middle;\n",
       "    }\n",
       "\n",
       "    .dataframe tbody tr th {\n",
       "        vertical-align: top;\n",
       "    }\n",
       "\n",
       "    .dataframe thead th {\n",
       "        text-align: right;\n",
       "    }\n",
       "</style>\n",
       "<table border=\"1\" class=\"dataframe\">\n",
       "  <thead>\n",
       "    <tr style=\"text-align: right;\">\n",
       "      <th></th>\n",
       "      <th>total_amount</th>\n",
       "    </tr>\n",
       "    <tr>\n",
       "      <th>day</th>\n",
       "      <th></th>\n",
       "    </tr>\n",
       "  </thead>\n",
       "  <tbody>\n",
       "    <tr>\n",
       "      <th>Thursday</th>\n",
       "      <td>57181.91</td>\n",
       "    </tr>\n",
       "    <tr>\n",
       "      <th>Friday</th>\n",
       "      <td>55818.74</td>\n",
       "    </tr>\n",
       "    <tr>\n",
       "      <th>Wednesday</th>\n",
       "      <td>55310.47</td>\n",
       "    </tr>\n",
       "    <tr>\n",
       "      <th>Tuesday</th>\n",
       "      <td>52527.14</td>\n",
       "    </tr>\n",
       "    <tr>\n",
       "      <th>Saturday</th>\n",
       "      <td>51195.40</td>\n",
       "    </tr>\n",
       "    <tr>\n",
       "      <th>Monday</th>\n",
       "      <td>49574.37</td>\n",
       "    </tr>\n",
       "    <tr>\n",
       "      <th>Sunday</th>\n",
       "      <td>48624.06</td>\n",
       "    </tr>\n",
       "  </tbody>\n",
       "</table>\n",
       "</div>"
      ],
      "text/plain": [
       "           total_amount\n",
       "day                    \n",
       "Thursday       57181.91\n",
       "Friday         55818.74\n",
       "Wednesday      55310.47\n",
       "Tuesday        52527.14\n",
       "Saturday       51195.40\n",
       "Monday         49574.37\n",
       "Sunday         48624.06"
      ]
     },
     "execution_count": 33,
     "metadata": {},
     "output_type": "execute_result"
    }
   ],
   "source": [
    "# get revenue by day\n",
    "total_amount_day = df1.groupby('day').sum(numeric_only=True)[['total_amount']]\n",
    "total_amount_day = total_amount_day.reindex(index=day_order)\n",
    "total_amount_day.sort_values(by='total_amount', ascending=False)"
   ]
  },
  {
   "cell_type": "code",
   "execution_count": 34,
   "id": "eb535914-4874-4e2a-aae2-4b22cc9adc77",
   "metadata": {},
   "outputs": [
    {
     "data": {
      "image/png": "[encoded data removed]",
      "text/plain": [
       "<Figure size 1200x700 with 1 Axes>"
      ]
     },
     "metadata": {},
     "output_type": "display_data"
    }
   ],
   "source": [
    "plt.figure(figsize=(12,7))\n",
    "ax = sns.barplot(x=total_amount_day.index, y=total_amount_day['total_amount'], color = '#f7b630')\n",
    "ax.set_xticks(ax.get_xticks())\n",
    "ax.set_yticks(ax.get_yticks())\n",
    "ax.set_xticklabels(day_order)\n",
    "ax.set_ylabel('Revenue (USD)')\n",
    "plt.title('Total revenue by day');"
   ]
  },
  {
   "cell_type": "markdown",
   "id": "a8a71cad-d2aa-46aa-aa80-3e03b4e3cdea",
   "metadata": {},
   "source": [
    "Thursdays were the most lucrative day for the taxi service, generating the highest gross revenue. Sunday and Monday brought in the least income. It's worth noting that while Saturday had a similar number of rides to Thursday, its revenue was significantly lower, dropping over 10% despite only 35 fewer passengers."
   ]
  },
  {
   "cell_type": "code",
   "execution_count": 35,
   "id": "a92975e0-41de-489c-ad37-76ff26b0e950",
   "metadata": {},
   "outputs": [
    {
     "data": {
      "text/html": [
       "<div>\n",
       "<style scoped>\n",
       "    .dataframe tbody tr th:only-of-type {\n",
       "        vertical-align: middle;\n",
       "    }\n",
       "\n",
       "    .dataframe tbody tr th {\n",
       "        vertical-align: top;\n",
       "    }\n",
       "\n",
       "    .dataframe thead th {\n",
       "        text-align: right;\n",
       "    }\n",
       "</style>\n",
       "<table border=\"1\" class=\"dataframe\">\n",
       "  <thead>\n",
       "    <tr style=\"text-align: right;\">\n",
       "      <th></th>\n",
       "      <th>total_amount</th>\n",
       "    </tr>\n",
       "    <tr>\n",
       "      <th>month</th>\n",
       "      <th></th>\n",
       "    </tr>\n",
       "  </thead>\n",
       "  <tbody>\n",
       "    <tr>\n",
       "      <th>May</th>\n",
       "      <td>33828.58</td>\n",
       "    </tr>\n",
       "    <tr>\n",
       "      <th>March</th>\n",
       "      <td>33085.89</td>\n",
       "    </tr>\n",
       "    <tr>\n",
       "      <th>October</th>\n",
       "      <td>33065.83</td>\n",
       "    </tr>\n",
       "    <tr>\n",
       "      <th>June</th>\n",
       "      <td>32920.52</td>\n",
       "    </tr>\n",
       "    <tr>\n",
       "      <th>April</th>\n",
       "      <td>32012.54</td>\n",
       "    </tr>\n",
       "    <tr>\n",
       "      <th>January</th>\n",
       "      <td>31735.25</td>\n",
       "    </tr>\n",
       "    <tr>\n",
       "      <th>December</th>\n",
       "      <td>31261.57</td>\n",
       "    </tr>\n",
       "    <tr>\n",
       "      <th>November</th>\n",
       "      <td>30800.44</td>\n",
       "    </tr>\n",
       "    <tr>\n",
       "      <th>February</th>\n",
       "      <td>28937.89</td>\n",
       "    </tr>\n",
       "    <tr>\n",
       "      <th>September</th>\n",
       "      <td>28206.38</td>\n",
       "    </tr>\n",
       "    <tr>\n",
       "      <th>August</th>\n",
       "      <td>27759.56</td>\n",
       "    </tr>\n",
       "    <tr>\n",
       "      <th>July</th>\n",
       "      <td>26617.64</td>\n",
       "    </tr>\n",
       "  </tbody>\n",
       "</table>\n",
       "</div>"
      ],
      "text/plain": [
       "           total_amount\n",
       "month                  \n",
       "May            33828.58\n",
       "March          33085.89\n",
       "October        33065.83\n",
       "June           32920.52\n",
       "April          32012.54\n",
       "January        31735.25\n",
       "December       31261.57\n",
       "November       30800.44\n",
       "February       28937.89\n",
       "September      28206.38\n",
       "August         27759.56\n",
       "July           26617.64"
      ]
     },
     "execution_count": 35,
     "metadata": {},
     "output_type": "execute_result"
    }
   ],
   "source": [
    "# Get total revenue by month\n",
    "total_amount_month = df1.groupby('month').sum(numeric_only=True)[['total_amount']]\n",
    "total_amount_month = total_amount_month.reindex(index=month_order)\n",
    "total_amount_month.sort_values(by='total_amount', ascending=False)"
   ]
  },
  {
   "cell_type": "code",
   "execution_count": 36,
   "id": "0aaa297a-5fec-40f8-99f3-4ab1e234fce9",
   "metadata": {},
   "outputs": [
    {
     "data": {
      "image/png": "[encoded data removed]",
      "text/plain": [
       "<Figure size 1200x700 with 1 Axes>"
      ]
     },
     "metadata": {},
     "output_type": "display_data"
    }
   ],
   "source": [
    "# Create a bar plot of total revenue by month\n",
    "plt.figure(figsize=(12,7))\n",
    "ax = sns.barplot(x=total_amount_month.index, y=total_amount_month['total_amount'], color = '#f7b630')\n",
    "plt.title('Total revenue by month');"
   ]
  },
  {
   "cell_type": "markdown",
   "id": "a2ceaf8d-af6e-4c43-a806-292fa572b391",
   "metadata": {},
   "source": [
    "Similar to the monthly ride count, revenue exhibits a recurring pattern, experiencing notable declines in July, August, September, and February. "
   ]
  },
  {
   "cell_type": "markdown",
   "id": "22129c8a-51d5-4c2a-a5f9-5e4ba6be7709",
   "metadata": {},
   "source": [
    "#### Distance-Specific EDA"
   ]
  },
  {
   "cell_type": "code",
   "execution_count": 37,
   "id": "d55d84ed-2523-4983-b047-0ac446fcf936",
   "metadata": {},
   "outputs": [
    {
     "data": {
      "image/png": "[encoded data removed]",
      "text/plain": [
       "<Figure size 1200x600 with 1 Axes>"
      ]
     },
     "metadata": {},
     "output_type": "display_data"
    }
   ],
   "source": [
    "# Create histogram of distances\n",
    "plt.figure(figsize=(12,6))\n",
    "ax = sns.histplot(df1['trip_distance'], bins=range(0,35,1), color = 'purple', alpha=0.5)\n",
    "ax.set_xticks(range(0,35,5))\n",
    "ax.set_xticklabels(range(0,35,5))\n",
    "plt.title('Trip distance histogram');"
   ]
  },
  {
   "cell_type": "markdown",
   "id": "7ee5a0c4-9f26-4c65-9e37-88eedb9801a2",
   "metadata": {},
   "source": [
    "Most trips cover a short distance, with the majority falling within the 0-5 mile range. Notably, around 7500 trips range from 1 to 2 miles."
   ]
  },
  {
   "cell_type": "markdown",
   "id": "ba698f1c-c41b-4b50-bee8-b2445ac19c40",
   "metadata": {},
   "source": [
    "As geographic coordinates are absent from the dataset, a direct analysis of location distribution is not feasible. To gain insights into the distribution of drop-off locations, a histogram of ride counts by drop-off location will be created."
   ]
  },
  {
   "cell_type": "code",
   "execution_count": 38,
   "id": "b4cf6346-e6ab-4b83-b35a-46834f4da9b9",
   "metadata": {},
   "outputs": [
    {
     "name": "stdout",
     "output_type": "stream",
     "text": [
      "There are 152 pickup locations, and 216 drop off locations in this sample data.\n"
     ]
    }
   ],
   "source": [
    "# Get the counts for unique pick up and drop aff locations \n",
    "pu = df1['PULocationID'].nunique()\n",
    "do = df1['DOLocationID'].nunique()\n",
    "print('There are ' + str(pu) + ' pickup locations, and ' + str(do) + ' drop off locations in this sample data.')"
   ]
  },
  {
   "cell_type": "code",
   "execution_count": 39,
   "id": "4645483c-c960-48a4-a983-4377046c4cee",
   "metadata": {},
   "outputs": [
    {
     "data": {
      "image/png": "[encoded data removed]",
      "text/plain": [
       "<Figure size 1600x400 with 1 Axes>"
      ]
     },
     "metadata": {},
     "output_type": "display_data"
    }
   ],
   "source": [
    "# DOLocationID column is numeric, so sort in ascending order\n",
    "sorted_dropoffs = df1['DOLocationID'].sort_values()\n",
    "\n",
    "# Convert to string for plot to ignore gaps in DOL location numbering\n",
    "sorted_dropoffs = sorted_dropoffs.astype('str')\n",
    "\n",
    "# Plot histogram\n",
    "plt.figure(figsize=(16,4))\n",
    "sns.histplot(sorted_dropoffs, bins=range(0, df1['DOLocationID'].max()+1, 1), color = 'purple', alpha=0.5)\n",
    "plt.xticks([])\n",
    "plt.xlabel('Drop-off locations')\n",
    "plt.title('Histogram of rides by drop-off location', fontsize=20);"
   ]
  },
  {
   "cell_type": "markdown",
   "id": "f4b058c1-c1d2-4060-8cbc-a001a5b34f3e",
   "metadata": {},
   "source": [
    "A clear disparity exists in drop-off distribution, as a handful of locations accumulate the bulk of taxi trips, while the vast majority of sites see minimal activity. These high-traffic areas are probably located near popular tourist attractions, airports, and train/bus stations. However, the absence of location data linked to the IDs prevents precise identification."
   ]
  },
  {
   "cell_type": "markdown",
   "id": "bb442701-b5ca-401b-9e8e-ef5ea70a6059",
   "metadata": {},
   "source": [
    "## Conclusion"
   ]
  },
  {
   "cell_type": "markdown",
   "id": "8b4fc89f-1e4d-4c30-ac8c-a1eb557c2442",
   "metadata": {},
   "source": [
    "In addition to the observations made after the initial review:\n",
    "\n",
    "-  There are 22699 observations and 18 features within the data.  No null values.\n",
    "-  The most expensive rides are not necessarily the longest ones. (Outlier identification and removal are still pending.)\n",
    "-  Trip distances are concentrated heavily in the 0-5 mile range, though some stretch as far as 35 miles.\n",
    "-  The average amount per trip is approximately \\\\$13.  The majority of trips are between \\\\$5 and\\\\$15.\n",
    "-  The top two payment types are credit card and cash.  Credit Card method of payment more than doubles those that are paid with cash.  Tips are only present when the payment type is credit card.\n",
    "-  Most tips range from \\\\$0 to \\\\$3, with similar tipping patterns observed between two vendors, despite differences in ride volume.\n",
    "-  Tip data is only available for credit card transactions, limiting analysis. This understates overall driver income due to missing cash tip data. Tip amounts are consistent across passenger counts. Further investigation of cash tip data is needed.\n",
    "-  Of the two vendors, Vendor 2 has a slightly higher share of the rides.  The average amount paid to each vendor per trip is roughly even.\n",
    "-  Analysis of credit card taxi rides reveals that solo riders constitute the most frequent passenger group, and have a relatively low average fare compared to other groups. Contrary to expectations, neither tip amounts nor total fare costs correlate with the number of passengers.\n",
    "-  Taxi ride patterns exhibit seasonal and weekly variations. Ride numbers are consistent throughout the year, with dips in summer and February. Revenue mirrors ride patterns with similar seasonal dips.  Taxi usage was higher on weekdays, particularly from Wednesday to Saturday.  Thursdays were the most lucrative day, generating the highest gross revenue, while Sunday and Monday brought in the least. \n",
    "-  There are 152 pickup locations, and 216 drop off locations in this sample data.  Taxi drop-offs are concentrated in a few high-traffic areas, likely near popular tourist spots and transportation hubs. However, without location data, specific identification is impossible.\n",
    "-  `Total_amount` reflects the final fare paid, and `trip_distance` captures the travel length, both being primary predictors for taxi fares.\n",
    "-  The dataset includes both pickup and drop-off times, allowing us to calculate trip duration. This additional metric will likely provide valuable insights for the model.\n",
    "-  The presence of rides with zero passengers indicates potential data anomalies requiring further investigation."
   ]
  },
  {
   "cell_type": "code",
   "execution_count": null,
   "id": "1fb80342-75a1-4b61-9165-35e02f08b048",
   "metadata": {},
   "outputs": [],
   "source": []
  }
 ],
 "metadata": {
  "kernelspec": {
   "display_name": "Python 3 (ipykernel)",
   "language": "python",
   "name": "python3"
  },
  "language_info": {
   "codemirror_mode": {
    "name": "ipython",
    "version": 3
   },
   "file_extension": ".py",
   "mimetype": "text/x-python",
   "name": "python",
   "nbconvert_exporter": "python",
   "pygments_lexer": "ipython3",
   "version": "3.12.4"
  }
 },
 "nbformat": 4,
 "nbformat_minor": 5
}
